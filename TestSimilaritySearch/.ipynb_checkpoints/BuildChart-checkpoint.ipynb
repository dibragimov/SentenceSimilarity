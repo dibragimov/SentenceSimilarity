{
 "cells": [
  {
   "cell_type": "code",
   "execution_count": 1,
   "metadata": {},
   "outputs": [],
   "source": [
    "import matplotlib.pyplot as plt\n",
    "import numpy as np\n",
    "import pandas as pd"
   ]
  },
  {
   "cell_type": "code",
   "execution_count": 2,
   "metadata": {},
   "outputs": [
    {
     "name": "stdout",
     "output_type": "stream",
     "text": [
      "./data/results_2019-06-25_version1.txt\n",
      "./data/results_2019-06-25_tot.txt\n"
     ]
    }
   ],
   "source": [
    "\n",
    "import glob\n",
    "all_files = glob.glob('./data/' +'/result*.txt')\n",
    "\n",
    "li = []\n",
    "\n",
    "for filename in all_files:\n",
    "    print(filename)\n",
    "    df = pd.read_csv(filename, index_col=None, header=0)\n",
    "    li.append(df)\n",
    "\n",
    "res_file =  pd.concat(li, axis=0, ignore_index=True)"
   ]
  },
  {
   "cell_type": "code",
   "execution_count": 4,
   "metadata": {},
   "outputs": [
    {
     "data": {
      "text/html": [
       "<div>\n",
       "<style scoped>\n",
       "    .dataframe tbody tr th:only-of-type {\n",
       "        vertical-align: middle;\n",
       "    }\n",
       "\n",
       "    .dataframe tbody tr th {\n",
       "        vertical-align: top;\n",
       "    }\n",
       "\n",
       "    .dataframe thead th {\n",
       "        text-align: right;\n",
       "    }\n",
       "</style>\n",
       "<table border=\"1\" class=\"dataframe\">\n",
       "  <thead>\n",
       "    <tr style=\"text-align: right;\">\n",
       "      <th></th>\n",
       "      <th>total_q</th>\n",
       "      <th>size_id</th>\n",
       "      <th>train_q</th>\n",
       "      <th>test_q</th>\n",
       "      <th>topK</th>\n",
       "      <th>isbert</th>\n",
       "      <th>correct%</th>\n",
       "    </tr>\n",
       "  </thead>\n",
       "  <tbody>\n",
       "    <tr>\n",
       "      <th>0</th>\n",
       "      <td>204</td>\n",
       "      <td>100</td>\n",
       "      <td>175</td>\n",
       "      <td>29</td>\n",
       "      <td>3</td>\n",
       "      <td>False</td>\n",
       "      <td>0.62069</td>\n",
       "    </tr>\n",
       "    <tr>\n",
       "      <th>1</th>\n",
       "      <td>204</td>\n",
       "      <td>100</td>\n",
       "      <td>175</td>\n",
       "      <td>29</td>\n",
       "      <td>3</td>\n",
       "      <td>True</td>\n",
       "      <td>0.65517</td>\n",
       "    </tr>\n",
       "    <tr>\n",
       "      <th>2</th>\n",
       "      <td>204</td>\n",
       "      <td>100</td>\n",
       "      <td>178</td>\n",
       "      <td>26</td>\n",
       "      <td>2</td>\n",
       "      <td>False</td>\n",
       "      <td>0.61538</td>\n",
       "    </tr>\n",
       "    <tr>\n",
       "      <th>3</th>\n",
       "      <td>204</td>\n",
       "      <td>100</td>\n",
       "      <td>178</td>\n",
       "      <td>26</td>\n",
       "      <td>2</td>\n",
       "      <td>True</td>\n",
       "      <td>0.61538</td>\n",
       "    </tr>\n",
       "    <tr>\n",
       "      <th>4</th>\n",
       "      <td>204</td>\n",
       "      <td>100</td>\n",
       "      <td>183</td>\n",
       "      <td>21</td>\n",
       "      <td>1</td>\n",
       "      <td>False</td>\n",
       "      <td>0.71429</td>\n",
       "    </tr>\n",
       "  </tbody>\n",
       "</table>\n",
       "</div>"
      ],
      "text/plain": [
       "   total_q  size_id  train_q  test_q  topK  isbert  correct%\n",
       "0      204      100      175      29     3   False   0.62069\n",
       "1      204      100      175      29     3    True   0.65517\n",
       "2      204      100      178      26     2   False   0.61538\n",
       "3      204      100      178      26     2    True   0.61538\n",
       "4      204      100      183      21     1   False   0.71429"
      ]
     },
     "execution_count": 4,
     "metadata": {},
     "output_type": "execute_result"
    }
   ],
   "source": [
    "res_file.head()"
   ]
  },
  {
   "cell_type": "code",
   "execution_count": 5,
   "metadata": {},
   "outputs": [
    {
     "data": {
      "text/html": [
       "<div>\n",
       "<style scoped>\n",
       "    .dataframe tbody tr th:only-of-type {\n",
       "        vertical-align: middle;\n",
       "    }\n",
       "\n",
       "    .dataframe tbody tr th {\n",
       "        vertical-align: top;\n",
       "    }\n",
       "\n",
       "    .dataframe thead th {\n",
       "        text-align: right;\n",
       "    }\n",
       "</style>\n",
       "<table border=\"1\" class=\"dataframe\">\n",
       "  <thead>\n",
       "    <tr style=\"text-align: right;\">\n",
       "      <th></th>\n",
       "      <th></th>\n",
       "      <th></th>\n",
       "      <th>total_q</th>\n",
       "      <th>train_q</th>\n",
       "      <th>test_q</th>\n",
       "      <th>correct%</th>\n",
       "    </tr>\n",
       "    <tr>\n",
       "      <th>size_id</th>\n",
       "      <th>isbert</th>\n",
       "      <th>topK</th>\n",
       "      <th></th>\n",
       "      <th></th>\n",
       "      <th></th>\n",
       "      <th></th>\n",
       "    </tr>\n",
       "  </thead>\n",
       "  <tbody>\n",
       "    <tr>\n",
       "      <th rowspan=\"5\" valign=\"top\">50</th>\n",
       "      <th rowspan=\"3\" valign=\"top\">False</th>\n",
       "      <th>1</th>\n",
       "      <td>104.0</td>\n",
       "      <td>92.5</td>\n",
       "      <td>11.5</td>\n",
       "      <td>0.646155</td>\n",
       "    </tr>\n",
       "    <tr>\n",
       "      <th>2</th>\n",
       "      <td>104.0</td>\n",
       "      <td>92.5</td>\n",
       "      <td>11.5</td>\n",
       "      <td>0.646155</td>\n",
       "    </tr>\n",
       "    <tr>\n",
       "      <th>3</th>\n",
       "      <td>104.0</td>\n",
       "      <td>92.5</td>\n",
       "      <td>11.5</td>\n",
       "      <td>0.646155</td>\n",
       "    </tr>\n",
       "    <tr>\n",
       "      <th rowspan=\"2\" valign=\"top\">True</th>\n",
       "      <th>1</th>\n",
       "      <td>104.0</td>\n",
       "      <td>92.5</td>\n",
       "      <td>11.5</td>\n",
       "      <td>0.569230</td>\n",
       "    </tr>\n",
       "    <tr>\n",
       "      <th>2</th>\n",
       "      <td>104.0</td>\n",
       "      <td>92.5</td>\n",
       "      <td>11.5</td>\n",
       "      <td>0.569230</td>\n",
       "    </tr>\n",
       "  </tbody>\n",
       "</table>\n",
       "</div>"
      ],
      "text/plain": [
       "                     total_q  train_q  test_q  correct%\n",
       "size_id isbert topK                                    \n",
       "50      False  1       104.0     92.5    11.5  0.646155\n",
       "               2       104.0     92.5    11.5  0.646155\n",
       "               3       104.0     92.5    11.5  0.646155\n",
       "        True   1       104.0     92.5    11.5  0.569230\n",
       "               2       104.0     92.5    11.5  0.569230"
      ]
     },
     "execution_count": 5,
     "metadata": {},
     "output_type": "execute_result"
    }
   ],
   "source": [
    "agg_res = res_file.groupby(['size_id', 'isbert', 'topK']).agg('mean')\n",
    "agg_res.head()"
   ]
  },
  {
   "cell_type": "code",
   "execution_count": 6,
   "metadata": {},
   "outputs": [
    {
     "name": "stdout",
     "output_type": "stream",
     "text": [
      "0\n",
      "1\n",
      "2\n"
     ]
    }
   ],
   "source": [
    "#### prepare data for \n",
    "sers = []\n",
    "s = agg_res['total_q'][:,True,1]\n",
    "resdf = pd.DataFrame({'total_q':s.values})\n",
    "for i in range(3):\n",
    "    print(i)\n",
    "    ser_laser = agg_res['correct%'][:,False,i+1]\n",
    "    laser_df = pd.DataFrame({'correct_laser_'+str(i+1):ser_laser.values})\n",
    "    ser_bert = agg_res['correct%'][:,True,i+1]\n",
    "    bert_df = pd.DataFrame({'correct_bert_'+str(i+1):ser_bert.values})\n",
    "    resdf = pd.concat([resdf, laser_df, bert_df], axis=1)\n",
    "\n"
   ]
  },
  {
   "cell_type": "code",
   "execution_count": 7,
   "metadata": {},
   "outputs": [
    {
     "data": {
      "image/png": "[encoded data removed]",
      "text/plain": [
       "<Figure size 1728x576 with 3 Axes>"
      ]
     },
     "metadata": {
      "needs_background": "light"
     },
     "output_type": "display_data"
    }
   ],
   "source": [
    "#### draw a plot\n",
    "%matplotlib inline\n",
    "\n",
    "plt.figure(figsize=(24, 8))\n",
    "\n",
    "plt.subplot(131)\n",
    "plt.plot( 'total_q', 'correct_laser_1', data=resdf, marker='o', markerfacecolor='blue', markersize=12, \n",
    "         color='skyblue', linewidth=4, label='LASER')\n",
    "plt.plot( 'total_q', 'correct_bert_1', data=resdf, marker='^', markerfacecolor='green', markersize=12,\n",
    "         color='palegreen', linewidth=4, label='BERT')\n",
    "plt.ylim(0.5, 0.8);\n",
    "plt.legend()\n",
    "plt.gca().set_title('TOP K = 1')\n",
    "plt.subplot(132)\n",
    "plt.plot( 'total_q', 'correct_laser_2', data=resdf, marker='o', markerfacecolor='blue', markersize=12, \n",
    "         color='skyblue', linewidth=4, label='LASER')\n",
    "plt.plot( 'total_q', 'correct_bert_2', data=resdf, marker='^', markerfacecolor='green', markersize=12,\n",
    "         color='palegreen', linewidth=4, label='BERT')\n",
    "plt.ylim(0.5, 0.8);\n",
    "plt.legend()\n",
    "plt.gca().set_title('TOP K = 2')\n",
    "plt.subplot(133)\n",
    "plt.plot( 'total_q', 'correct_laser_3', data=resdf, marker='o', markerfacecolor='blue', markersize=12,\n",
    "         color='skyblue', linewidth=4, label='LASER')\n",
    "plt.plot( 'total_q', 'correct_bert_3', data=resdf, marker='^', markerfacecolor='green', markersize=12, \n",
    "         color='palegreen', linewidth=4, label='BERT')\n",
    "plt.ylim(0.5, 0.8);\n",
    "plt.legend()\n",
    "plt.gca().set_title('TOP K = 3')\n",
    "\n",
    "plt.savefig('./data/result.png')"
   ]
  },
  {
   "cell_type": "code",
   "execution_count": null,
   "metadata": {},
   "outputs": [],
   "source": []
  }
 ],
 "metadata": {
  "kernelspec": {
   "display_name": "Python 3",
   "language": "python",
   "name": "python3"
  },
  "language_info": {
   "codemirror_mode": {
    "name": "ipython",
    "version": 3
   },
   "file_extension": ".py",
   "mimetype": "text/x-python",
   "name": "python",
   "nbconvert_exporter": "python",
   "pygments_lexer": "ipython3",
   "version": "3.7.3"
  }
 },
 "nbformat": 4,
 "nbformat_minor": 2
}
